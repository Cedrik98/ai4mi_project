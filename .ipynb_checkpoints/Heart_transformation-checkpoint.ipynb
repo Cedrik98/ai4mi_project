{
 "cells": [
  {
   "cell_type": "code",
   "execution_count": 1,
   "metadata": {},
   "outputs": [],
   "source": [
    "import numpy as np\n",
    "import nibabel as nib\n",
    "import SimpleITK as sitk"
   ]
  },
  {
   "cell_type": "code",
   "execution_count": 2,
   "metadata": {},
   "outputs": [
    {
     "ename": "RuntimeError",
     "evalue": "Exception thrown in SimpleITK ImageFileReader_Execute: /tmp/SimpleITK/Code/IO/src/sitkImageReaderBase.cxx:91:\nsitk::ERROR: The file \"ai4mi_project/data/segthor_train/train/Patient_01/GT.nii.gz\" does not exist.",
     "output_type": "error",
     "traceback": [
      "\u001b[0;31m---------------------------------------------------------------------------\u001b[0m",
      "\u001b[0;31mRuntimeError\u001b[0m                              Traceback (most recent call last)",
      "\u001b[0;32m/tmp/ipykernel_95883/1047633203.py\u001b[0m in \u001b[0;36m?\u001b[0;34m()\u001b[0m\n\u001b[1;32m     55\u001b[0m \u001b[0;32mfor\u001b[0m \u001b[0mi\u001b[0m \u001b[0;32min\u001b[0m \u001b[0mrange\u001b[0m\u001b[0;34m(\u001b[0m\u001b[0;36m1\u001b[0m\u001b[0;34m,\u001b[0m\u001b[0;36m41\u001b[0m\u001b[0;34m)\u001b[0m\u001b[0;34m:\u001b[0m\u001b[0;34m\u001b[0m\u001b[0;34m\u001b[0m\u001b[0m\n\u001b[1;32m     56\u001b[0m     \u001b[0mimage_path\u001b[0m  \u001b[0;34m=\u001b[0m \u001b[0mpath\u001b[0m \u001b[0;34m+\u001b[0m \u001b[0;34m'Patient_'\u001b[0m \u001b[0;34m+\u001b[0m \u001b[0mstr\u001b[0m\u001b[0;34m(\u001b[0m\u001b[0mi\u001b[0m\u001b[0;34m)\u001b[0m\u001b[0;34m.\u001b[0m\u001b[0mzfill\u001b[0m\u001b[0;34m(\u001b[0m\u001b[0;36m2\u001b[0m\u001b[0;34m)\u001b[0m \u001b[0;34m+\u001b[0m \u001b[0;34m'/GT.nii.gz'\u001b[0m\u001b[0;34m\u001b[0m\u001b[0;34m\u001b[0m\u001b[0m\n\u001b[1;32m     57\u001b[0m     \u001b[0moutput_path\u001b[0m \u001b[0;34m=\u001b[0m \u001b[0mpath\u001b[0m \u001b[0;34m+\u001b[0m \u001b[0;34m'Patient_'\u001b[0m \u001b[0;34m+\u001b[0m \u001b[0mstr\u001b[0m\u001b[0;34m(\u001b[0m\u001b[0mi\u001b[0m\u001b[0;34m)\u001b[0m\u001b[0;34m.\u001b[0m\u001b[0mzfill\u001b[0m\u001b[0;34m(\u001b[0m\u001b[0;36m2\u001b[0m\u001b[0;34m)\u001b[0m \u001b[0;34m+\u001b[0m \u001b[0;34m'/GT_fixed.nii.gz'\u001b[0m\u001b[0;34m\u001b[0m\u001b[0;34m\u001b[0m\u001b[0m\n\u001b[1;32m     58\u001b[0m \u001b[0;34m\u001b[0m\u001b[0m\n\u001b[0;32m---> 59\u001b[0;31m     \u001b[0mapply_transform_to_label\u001b[0m\u001b[0;34m(\u001b[0m\u001b[0mimage_path\u001b[0m\u001b[0;34m,\u001b[0m \u001b[0mtransform_path\u001b[0m\u001b[0;34m,\u001b[0m \u001b[0moutput_path\u001b[0m\u001b[0;34m)\u001b[0m\u001b[0;34m\u001b[0m\u001b[0;34m\u001b[0m\u001b[0m\n\u001b[0m",
      "\u001b[0;32m/tmp/ipykernel_95883/1047633203.py\u001b[0m in \u001b[0;36m?\u001b[0;34m(image_path, transform_path, output_path, label_value)\u001b[0m\n\u001b[1;32m     11\u001b[0m     \u001b[0mReturns\u001b[0m\u001b[0;34m:\u001b[0m\u001b[0;34m\u001b[0m\u001b[0;34m\u001b[0m\u001b[0m\n\u001b[1;32m     12\u001b[0m         \u001b[0;32mNone\u001b[0m\u001b[0;34m\u001b[0m\u001b[0;34m\u001b[0m\u001b[0m\n\u001b[1;32m     13\u001b[0m     \"\"\"\n\u001b[1;32m     14\u001b[0m \u001b[0;34m\u001b[0m\u001b[0m\n\u001b[0;32m---> 15\u001b[0;31m     \u001b[0mimage\u001b[0m \u001b[0;34m=\u001b[0m \u001b[0msitk\u001b[0m\u001b[0;34m.\u001b[0m\u001b[0mReadImage\u001b[0m\u001b[0;34m(\u001b[0m\u001b[0mimage_path\u001b[0m\u001b[0;34m)\u001b[0m\u001b[0;34m\u001b[0m\u001b[0;34m\u001b[0m\u001b[0m\n\u001b[0m\u001b[1;32m     16\u001b[0m     \u001b[0mtransform\u001b[0m \u001b[0;34m=\u001b[0m \u001b[0msitk\u001b[0m\u001b[0;34m.\u001b[0m\u001b[0mReadTransform\u001b[0m\u001b[0;34m(\u001b[0m\u001b[0mtransform_path\u001b[0m\u001b[0;34m)\u001b[0m\u001b[0;34m\u001b[0m\u001b[0;34m\u001b[0m\u001b[0m\n\u001b[1;32m     17\u001b[0m \u001b[0;34m\u001b[0m\u001b[0m\n\u001b[1;32m     18\u001b[0m     \u001b[0mimage_array\u001b[0m \u001b[0;34m=\u001b[0m \u001b[0msitk\u001b[0m\u001b[0;34m.\u001b[0m\u001b[0mGetArrayFromImage\u001b[0m\u001b[0;34m(\u001b[0m\u001b[0mimage\u001b[0m\u001b[0;34m)\u001b[0m\u001b[0;34m\u001b[0m\u001b[0;34m\u001b[0m\u001b[0m\n",
      "\u001b[0;32m~/Documents/Master_AI/Jaar2/AIMI/Project/ai4mi_project/ai4mi/lib/python3.11/site-packages/SimpleITK/extra.py\u001b[0m in \u001b[0;36m?\u001b[0;34m(fileName, outputPixelType, imageIO)\u001b[0m\n\u001b[1;32m    380\u001b[0m         \u001b[0mreader\u001b[0m\u001b[0;34m.\u001b[0m\u001b[0mSetFileNames\u001b[0m\u001b[0;34m(\u001b[0m\u001b[0mfileName\u001b[0m\u001b[0;34m)\u001b[0m\u001b[0;34m\u001b[0m\u001b[0;34m\u001b[0m\u001b[0m\n\u001b[1;32m    381\u001b[0m \u001b[0;34m\u001b[0m\u001b[0m\n\u001b[1;32m    382\u001b[0m     \u001b[0mreader\u001b[0m\u001b[0;34m.\u001b[0m\u001b[0mSetImageIO\u001b[0m\u001b[0;34m(\u001b[0m\u001b[0mimageIO\u001b[0m\u001b[0;34m)\u001b[0m\u001b[0;34m\u001b[0m\u001b[0;34m\u001b[0m\u001b[0m\n\u001b[1;32m    383\u001b[0m     \u001b[0mreader\u001b[0m\u001b[0;34m.\u001b[0m\u001b[0mSetOutputPixelType\u001b[0m\u001b[0;34m(\u001b[0m\u001b[0moutputPixelType\u001b[0m\u001b[0;34m)\u001b[0m\u001b[0;34m\u001b[0m\u001b[0;34m\u001b[0m\u001b[0m\n\u001b[0;32m--> 384\u001b[0;31m     \u001b[0;32mreturn\u001b[0m \u001b[0mreader\u001b[0m\u001b[0;34m.\u001b[0m\u001b[0mExecute\u001b[0m\u001b[0;34m(\u001b[0m\u001b[0;34m)\u001b[0m\u001b[0;34m\u001b[0m\u001b[0;34m\u001b[0m\u001b[0m\n\u001b[0m",
      "\u001b[0;32m~/Documents/Master_AI/Jaar2/AIMI/Project/ai4mi_project/ai4mi/lib/python3.11/site-packages/SimpleITK/SimpleITK.py\u001b[0m in \u001b[0;36m?\u001b[0;34m(self)\u001b[0m\n\u001b[1;32m   8498\u001b[0m         \u001b[0mtype\u001b[0m \u001b[0mto\u001b[0m \u001b[0mbe\u001b[0m \u001b[0msame\u001b[0m \u001b[0;32mas\u001b[0m \u001b[0mthe\u001b[0m \u001b[0mfile\u001b[0m\u001b[0;34m.\u001b[0m \u001b[0mIf\u001b[0m \u001b[0mthe\u001b[0m \u001b[0mpixel\u001b[0m \u001b[0mtype\u001b[0m \u001b[0;32mis\u001b[0m \u001b[0mspecified\u001b[0m \u001b[0mthen\u001b[0m \u001b[0mthe\u001b[0m \u001b[0mitk\u001b[0m\u001b[0;34m:\u001b[0m\u001b[0;34m:\u001b[0m\u001b[0mConvertPixelBuffer\u001b[0m \u001b[0mwill\u001b[0m \u001b[0mbe\u001b[0m \u001b[0mused\u001b[0m \u001b[0mto\u001b[0m \u001b[0mconvert\u001b[0m \u001b[0mthe\u001b[0m \u001b[0mpixels\u001b[0m\u001b[0;34m.\u001b[0m\u001b[0;34m\u001b[0m\u001b[0;34m\u001b[0m\u001b[0m\n\u001b[1;32m   8499\u001b[0m \u001b[0;34m\u001b[0m\u001b[0m\n\u001b[1;32m   8500\u001b[0m \u001b[0;34m\u001b[0m\u001b[0m\n\u001b[1;32m   8501\u001b[0m         \"\"\"\n\u001b[0;32m-> 8502\u001b[0;31m         \u001b[0;32mreturn\u001b[0m \u001b[0m_SimpleITK\u001b[0m\u001b[0;34m.\u001b[0m\u001b[0mImageFileReader_Execute\u001b[0m\u001b[0;34m(\u001b[0m\u001b[0mself\u001b[0m\u001b[0;34m)\u001b[0m\u001b[0;34m\u001b[0m\u001b[0;34m\u001b[0m\u001b[0m\n\u001b[0m",
      "\u001b[0;31mRuntimeError\u001b[0m: Exception thrown in SimpleITK ImageFileReader_Execute: /tmp/SimpleITK/Code/IO/src/sitkImageReaderBase.cxx:91:\nsitk::ERROR: The file \"ai4mi_project/data/segthor_train/train/Patient_01/GT.nii.gz\" does not exist."
     ]
    }
   ],
   "source": [
    "def apply_transform_to_label(image_path, transform_path, output_path, label_value=2):\n",
    "    \"\"\"\n",
    "    Apply a transform to a specific label within a NIfTI image.\n",
    "\n",
    "    Args:\n",
    "        image_path (str): Path to the input NIfTI image (.nii.gz file).\n",
    "        transform_path (str): Path to the transform file (.tfm).\n",
    "        output_path (str): Path to save the transformed NIfTI image.\n",
    "        label_value (int) - Default = 2 (heart): The label value to which the transform will be applied.\n",
    "\n",
    "    Returns:\n",
    "        None\n",
    "    \"\"\"\n",
    "\n",
    "    image = sitk.ReadImage(image_path)\n",
    "    transform = sitk.ReadTransform(transform_path)\n",
    "\n",
    "    image_array = sitk.GetArrayFromImage(image)\n",
    "\n",
    "    label_mask = (image_array == label_value).astype(np.uint8)\n",
    "    label_image = sitk.GetImageFromArray(label_mask)\n",
    "    label_image.CopyInformation(image)\n",
    "\n",
    "    resampled_label = sitk.Resample(\n",
    "        label_image,\n",
    "        image,  # Reference image defines the output space\n",
    "        transform,\n",
    "        sitk.sitkNearestNeighbor,\n",
    "        0,  # Default pixel value for areas outside the original image\n",
    "        label_image.GetPixelID()\n",
    "    )\n",
    "\n",
    "    resampled_label_array = sitk.GetArrayFromImage(resampled_label)\n",
    "\n",
    "    # Remove original label from image\n",
    "    image_array_without_label = np.where(image_array == label_value, 0, image_array)\n",
    "\n",
    "    # Add the transformed label back into the image array\n",
    "    final_image_array = np.where(resampled_label_array > 0, label_value, image_array_without_label)\n",
    "\n",
    "    final_image = sitk.GetImageFromArray(final_image_array)\n",
    "    final_image.CopyInformation(image)\n",
    "\n",
    "    sitk.WriteImage(final_image, output_path)\n",
    "\n",
    "    print(f\"Transformed image saved to {output_path}\")\n",
    "\n",
    "# For LINUX:\n",
    "path ='data/segthor_train/train/'\n",
    "\n",
    "# For WSL:\n",
    "# path = '/home/{user}/ai4mi_project/data/segthor_train/train/'\n",
    "transform_path = 'data/segthor_train/train/Transform_fix.tfm'\n",
    "    \n",
    "for i in range(1,41):\n",
    "    image_path  = path + 'Patient_' + str(i).zfill(2) + '/GT.nii.gz'\n",
    "    output_path = path + 'Patient_' + str(i).zfill(2) + '/GT_fixed.nii.gz'    \n",
    "\n",
    "    apply_transform_to_label(image_path, transform_path, output_path)"
   ]
  },
  {
   "cell_type": "code",
   "execution_count": null,
   "metadata": {},
   "outputs": [],
   "source": [
    "# To check how good transformation on Patient_27 is:\n",
    "def calculate_iou(file1_path, file2_path, label_value=2):\n",
    "    \"\"\"\n",
    "    Calculate Intersection over Union (IoU) between two NIfTI files for a specific label.\n",
    "    \n",
    "    Args:\n",
    "        file1_path (str): Path to the first NIfTI file.\n",
    "        file2_path (str): Path to the second NIfTI file.\n",
    "        label_value (int) - Default = 2 (heart): The label value of the region for which IoU should be calculated.\n",
    "        \n",
    "    Returns:\n",
    "        float: The IoU score between the two volumes.\n",
    "    \"\"\"\n",
    "    data1 = nib.load(file1_path).get_fdata()\n",
    "    data2 = nib.load(file2_path).get_fdata()\n",
    "    \n",
    "    mask1 = (data1 == label_value).astype(np.uint8)\n",
    "    mask2 = (data2 == label_value).astype(np.uint8)\n",
    "    \n",
    "    intersection = np.logical_and(mask1, mask2).sum()\n",
    "    union = np.logical_or(mask1, mask2).sum()\n",
    "    \n",
    "    if union == 0:\n",
    "        return 0.0\n",
    "    iou = intersection / union\n",
    "    return iou\n",
    "\n",
    "iou_27 = calculate_iou(\"data/segthor_train/train/Patient_27/GT_fixed.nii.gz\", \"data/segthor_train/train/Patient_27/GT2.nii.gz\")\n",
    "print(\"IoU of heart in Patient_27: \", iou_27)"
   ]
  }
 ],
 "metadata": {
  "kernelspec": {
   "display_name": "AI4MI Project",
   "language": "python",
   "name": "ai4mi_project"
  },
  "language_info": {
   "codemirror_mode": {
    "name": "ipython",
    "version": 3
   },
   "file_extension": ".py",
   "mimetype": "text/x-python",
   "name": "python",
   "nbconvert_exporter": "python",
   "pygments_lexer": "ipython3",
   "version": "3.11.4"
  }
 },
 "nbformat": 4,
 "nbformat_minor": 2
}
