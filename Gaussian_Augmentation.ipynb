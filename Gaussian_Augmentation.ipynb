{
 "cells": [
  {
   "cell_type": "code",
   "execution_count": 1,
   "id": "5553aafb",
   "metadata": {},
   "outputs": [],
   "source": [
    "import os\n",
    "import nibabel as nib\n",
    "import glob\n",
    "from nilearn import image"
   ]
  },
  {
   "cell_type": "code",
   "execution_count": 2,
   "id": "a22fc699",
   "metadata": {},
   "outputs": [],
   "source": [
    "# Specify input and output path\n",
    "# For LINUX:\n",
    "path ='ai4mi_project/data/segthor_train/train/'\n",
    "\n",
    "# For WSL:\n",
    "# path = '/home/{user}/ai4mi_project/data/segthor_train/train/'"
   ]
  },
  {
   "cell_type": "code",
   "execution_count": 3,
   "id": "ea14eb9a",
   "metadata": {},
   "outputs": [],
   "source": [
    "# Get a list of all NIfTI files in the input directory\n",
    "\n",
    "image_filenames = []\n",
    "\n",
    "for i in range(1,41):\n",
    "    \n",
    "    image_filenames = image_filenames + sorted(glob.glob(path + 'Patient_'+ str(i).zfill(2) + '/*.nii.gz'))\n",
    "    \n",
    "# Remove extra GT file from Patient_27\n",
    "image_filenames.remove(os.path.join(path, 'Patient_27/GT2.nii.gz'))"
   ]
  },
  {
   "cell_type": "code",
   "execution_count": 4,
   "id": "8a31b94f",
   "metadata": {},
   "outputs": [],
   "source": [
    "# Iter object for list names\n",
    "it = iter(image_filenames)\n",
    "# First new patient will have number 41, it will go up to 80\n",
    "i = 41\n",
    "\n",
    "for gt, pt in zip(it, it):\n",
    "    \n",
    "    patient_dir = os.path.join(path, 'Patient_'+ str(i).zfill(2))\n",
    "    \n",
    "    # Creating directory for new patient\n",
    "    os.makedirs(patient_dir, exist_ok=True)\n",
    "    \n",
    "    gt_path = os.path.join(patient_dir, 'GT.nii.gz')\n",
    "    pt_path = os.path.join(patient_dir, 'Patient_' + str(i).zfill(2) + '.nii.gz')\n",
    "    \n",
    "    if os.path.exists(gt_path) and os.path.exists(pt_path):\n",
    "        print(f\"Files for Patient_{str(i).zfill(2)} already exist. Skipping...\")\n",
    "        i += 1\n",
    "        continue \n",
    "    \n",
    "    # Loading files from original patient\n",
    "    gt_file = nib.load(gt)\n",
    "    pt_file = nib.load(pt)\n",
    "    \n",
    "    # NiLearn has its own function for applying Gaussian spatial smoothing to images as well. \n",
    "    # The only real difference from scipy.ndimage’s gaussian_filter() function is that instead of \n",
    "    # specifying the smoothing kernel in standard deviations, we specify it in units of \n",
    "    # full width half-maximum (FWHM). This is the standard way that most neuroimaging analysis packages \n",
    "    # specify smoothing kernel size, so it is preferable to SciPy’s approach. As the term implies, \n",
    "    # FWHM is the width of the smoothing kernel, in millimetres, at the point in the kernel where it is half \n",
    "    # of its maximum height. Thus a larger FWHM value applies more smoothing.\n",
    "    fwhm = 4\n",
    "    \n",
    "    # Smoothing the patients' scan\n",
    "    pt_smooth = image.smooth_img(pt_file, fwhm)\n",
    "    \n",
    "    # Saving the files for the new patient\n",
    "    nib.save(gt_file, gt_path)\n",
    "    nib.save(pt_smooth, pt_path)\n",
    "    \n",
    "    # Increasing patient number for the next patient.\n",
    "    i += 1"
   ]
  }
 ],
 "metadata": {
  "kernelspec": {
   "display_name": "Python 3 (ipykernel)",
   "language": "python",
   "name": "python3"
  },
  "language_info": {
   "codemirror_mode": {
    "name": "ipython",
    "version": 3
   },
   "file_extension": ".py",
   "mimetype": "text/x-python",
   "name": "python",
   "nbconvert_exporter": "python",
   "pygments_lexer": "ipython3",
   "version": "3.11.5"
  }
 },
 "nbformat": 4,
 "nbformat_minor": 5
}
