{
 "cells": [
  {
   "cell_type": "code",
   "execution_count": 1,
   "id": "5553aafb",
   "metadata": {},
   "outputs": [],
   "source": [
    "import os\n",
    "import glob\n",
    "import numpy as np\n",
    "import nibabel as nib\n",
    "import SimpleITK as sitk\n",
    "from nilearn import image\n",
    "from scipy.ndimage import affine_transform\n",
    "from scipy.spatial.distance import directed_hausdorff"
   ]
  },
  {
   "cell_type": "code",
   "execution_count": 2,
   "id": "a22fc699",
   "metadata": {},
   "outputs": [],
   "source": [
    "# Specify input and output path\n",
    "# For LINUX:\n",
    "path ='ai4mi_project/data/segthor_train/train/'\n",
    "\n",
    "# For WSL:\n",
    "# path = '/home/{user}/ai4mi_project/data/segthor_train/train/'"
   ]
  },
  {
   "cell_type": "code",
   "execution_count": 17,
   "id": "f0d06346-e96c-43ce-a1ad-4e758fbff321",
   "metadata": {},
   "outputs": [],
   "source": [
    "def create_augmentation(folder_path, patients_tobe_augmented, new_patients_name, degree=10, aug='affine', fwhm=4, use_default_matrix=True, give_matrix=None, threshold=-500):\n",
    "    \"\"\"\n",
    "    Example of how the variables should look:\n",
    "    folder_path (string): 'ai4mi_project/data/segthor_train/train/'\n",
    "    patients_tobe_augmented (list of strings): ['03', '11, '27']\n",
    "    new_patients_name (list of strings): ['41', '42', '43']\n",
    "    degree can be (int): 10     \n",
    "    aug (string): \"affine\" or \"gaussian\" or \"threshold\"\n",
    "    \n",
    "    fwhm (int): 4 \n",
    "    # NiLearn has its own function for applying Gaussian spatial smoothing to images as well. \n",
    "    # The only real difference from scipy.ndimage’s gaussian_filter() function is that instead of \n",
    "    # specifying the smoothing kernel in standard deviations, we specify it in units of \n",
    "    # full width half-maximum (FWHM). This is the standard way that most neuroimaging analysis packages \n",
    "    # specify smoothing kernel size, so it is preferable to SciPy’s approach. As the term implies, \n",
    "    # FWHM is the width of the smoothing kernel, in millimetres, at the point in the kernel where it is half \n",
    "    # of its maximum height. Thus a larger FWHM value applies more smoothing.\n",
    "    use_default_matrix can be set to False and a different matrix can be given to parameter give_matrix\n",
    "    \n",
    "    threshold (int between -1000 and 31743): -500 (Everything belowe becomes zero\n",
    "    \"\"\"\n",
    "    if use_default_matrix:\n",
    "        theta = np.radians(degree)  # 10 degree rotation\n",
    "        matrix = np.array([[np.cos(theta), -np.sin(theta), 0, 0],\n",
    "                           [np.sin(theta), np.cos(theta),  0, 0],\n",
    "                           [0,             0,              1, 0],\n",
    "                           [0,             0,              0, 1]])\n",
    "    else:\n",
    "        matrix = give_matrix\n",
    "           \n",
    "    for patient, new_name in zip(patients_tobe_augmented, new_patients_name):\n",
    "        \n",
    "        ct = nib.load(folder_path + 'Patient_' + patient + '/Patient_' + patient + '.nii.gz')\n",
    "        gt = nib.load(folder_path + 'Patient_' + patient + '/GT.nii.gz')\n",
    "\n",
    "        # Creating directory for new patient\n",
    "        os.makedirs(folder_path + 'Patient_' + new_name, exist_ok=True)\n",
    "        \n",
    "        if aug == 'affine':\n",
    "            ct_new_img = image.resample_img(ct, target_affine=matrix @ ct.affine, target_shape=ct.shape)\n",
    "            gt_new_img = image.resample_img(gt, target_affine=matrix @ gt.affine, target_shape=gt.shape)\n",
    "\n",
    "        elif aug == 'gaussian':\n",
    "            ct_new_img = image.smooth_img(ct, fwhm)\n",
    "            gt_new_img = gt\n",
    "\n",
    "        elif aug == 'threshold':\n",
    "            data = ct.get_fdata() \n",
    "            data[data < threshold] = 0\n",
    "            ct_new_img = nib.Nifti1Image(data, ct.affine)\n",
    "            gt_new_img = gt\n",
    "\n",
    "        # Save the transformed image\n",
    "        nib.save(ct_new_img, folder_path + 'Patient_' + new_name + '/Patient_' + new_name + '.nii.gz')\n",
    "        nib.save(gt_new_img, folder_path + 'Patient_' + new_name + '/GT.nii.gz')\n",
    "\n",
    "\n",
    "patients_tobe = ['27']\n",
    "new_patients = ['41']\n",
    "create_augmentation(path, patients_tobe, new_patients, aug='threshold')"
   ]
  },
  {
   "cell_type": "code",
   "execution_count": null,
   "id": "d8250d73-80dd-44cf-ab66-df845d5766b2",
   "metadata": {},
   "outputs": [],
   "source": []
  }
 ],
 "metadata": {
  "kernelspec": {
   "display_name": "Python 3 (ipykernel)",
   "language": "python",
   "name": "python3"
  },
  "language_info": {
   "codemirror_mode": {
    "name": "ipython",
    "version": 3
   },
   "file_extension": ".py",
   "mimetype": "text/x-python",
   "name": "python",
   "nbconvert_exporter": "python",
   "pygments_lexer": "ipython3",
   "version": "3.10.12"
  }
 },
 "nbformat": 4,
 "nbformat_minor": 5
}
